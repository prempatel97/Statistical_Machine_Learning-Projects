{
 "cells": [
  {
   "cell_type": "code",
   "execution_count": 1,
   "metadata": {},
   "outputs": [],
   "source": [
    "import numpy as np\n",
    "import scipy.io"
   ]
  },
  {
   "cell_type": "code",
   "execution_count": 31,
   "metadata": {},
   "outputs": [
    {
     "name": "stdout",
     "output_type": "stream",
     "text": [
      "(12116,)\n",
      "(2002,)\n",
      "(12116,)\n",
      "(2002, 1)\n",
      "(12116, 3)\n",
      "(2002, 3)\n"
     ]
    }
   ],
   "source": [
    "data = scipy.io.loadmat('mnist_data.mat')\n",
    "i = 0\n",
    "learning_rate = 0.001\n",
    "tr_x = data['trX']\n",
    "tr_y = data['trY']\n",
    "ts_x = data['tsX']\n",
    "ts_y = data['tsY']\n",
    "ts_yT = ts_y.T\n",
    "tr_xm = np.mean(tr_x, axis=1)\n",
    "tr_xsd = np.std(tr_x, axis=1)\n",
    "ts_xm = np.mean(ts_x, axis=1)\n",
    "ts_xsd = np.std(ts_x, axis=1)\n",
    "nof_ones = np.ones(tr_xm.size)\n",
    "nof_ones_ts = np.ones(ts_yT.size)\n",
    "print(nof_ones.shape)\n",
    "print(nof_ones_ts.shape)\n",
    "print(tr_xm.shape)\n",
    "print(ts_yT.shape)\n",
    "tr_x_new = np.vstack((tr_xm,tr_xsd,nof_ones)).T\n",
    "print(tr_x_new.shape)\n",
    "ts_x_new = np.vstack((ts_xm,ts_xsd,nof_ones_ts)).T\n",
    "print(ts_x_new.shape)"
   ]
  },
  {
   "cell_type": "code",
   "execution_count": 32,
   "metadata": {},
   "outputs": [
    {
     "name": "stdout",
     "output_type": "stream",
     "text": [
      "(1, 3)\n",
      "(3, 1)\n"
     ]
    }
   ],
   "source": [
    "theta = np.zeros([1,3])\n",
    "k = theta.T\n",
    "print(theta.shape)\n",
    "print(k.shape)"
   ]
  },
  {
   "cell_type": "code",
   "execution_count": 72,
   "metadata": {},
   "outputs": [],
   "source": [
    "learning_rate = 0.001\n",
    "def sigmoid(c):\n",
    "    return 1.0/(1.0 + np.exp(-c))\n",
    "\n",
    "while(i<100000):                                                                                           \n",
    "    theta = theta + learning_rate * np.dot(tr_y, tr_x_new) - learning_rate * np.dot(sigmoid((np.dot(theta, np.transpose(tr_x_new)))), tr_x_new)\n",
    "    i = i + 1\n",
    "\n"
   ]
  },
  {
   "cell_type": "code",
   "execution_count": 73,
   "metadata": {},
   "outputs": [
    {
     "name": "stdout",
     "output_type": "stream",
     "text": [
      "0.8166833166833167\n",
      "0.7859922178988327\n",
      "0.8490759753593429\n"
     ]
    }
   ],
   "source": [
    "output = 0\n",
    "output = np.transpose(sigmoid(np.dot(theta, np.transpose(ts_x_new))))\n",
    "cnt = 0\n",
    "\n",
    "for i in range(ts_y.size):\n",
    "    if(output[i]>=0.5):\n",
    "        output[i] = 1\n",
    "    else:\n",
    "        output[i] = 0\n",
    "cnt7=0\n",
    "cnt8=0\n",
    "# Calculate accuracy\n",
    "for i in range(ts_y.size):\n",
    "    if(ts_yT[i] == output[i]):\n",
    "        cnt += 1\n",
    "\n",
    "for i in range(0,1028):\n",
    "    if (ts_yT[i] == output[i]):\n",
    "        cnt7 += 1\n",
    "\n",
    "for i in range(1028,2002):\n",
    "    if (ts_yT[i] == output[i]):\n",
    "        cnt8 += 1\n",
    "\n",
    "print(cnt/2002)                                                   # overall accuracy\n",
    "print(cnt7/1028)                                                  # Digit 7 accuracy\n",
    "print(cnt8/974)              "
   ]
  },
  {
   "cell_type": "code",
   "execution_count": null,
   "metadata": {},
   "outputs": [],
   "source": []
  }
 ],
 "metadata": {
  "kernelspec": {
   "display_name": "Python 3",
   "language": "python",
   "name": "python3"
  },
  "language_info": {
   "codemirror_mode": {
    "name": "ipython",
    "version": 3
   },
   "file_extension": ".py",
   "mimetype": "text/x-python",
   "name": "python",
   "nbconvert_exporter": "python",
   "pygments_lexer": "ipython3",
   "version": "3.6.5"
  }
 },
 "nbformat": 4,
 "nbformat_minor": 2
}
