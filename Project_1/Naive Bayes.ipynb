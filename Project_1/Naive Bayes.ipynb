{
 "cells": [
  {
   "cell_type": "code",
   "execution_count": 73,
   "metadata": {},
   "outputs": [],
   "source": [
    "import numpy as np\n",
    "import pandas as pd\n",
    "import math\n",
    "import scipy.io\n",
    "data = scipy.io.loadmat('mnist_data.mat')"
   ]
  },
  {
   "cell_type": "code",
   "execution_count": 74,
   "metadata": {},
   "outputs": [],
   "source": [
    "tr_x = np.array(data['trX'])\n",
    "ts_x = np.array(data['tsX'])\n",
    "tr_y = np.array(data['trY'])\n",
    "ts_y = np.array(data['tsY'])\n",
    "tr_xm = tr_x.mean(axis = 1)\n",
    "tr_xsd = tr_x.std(axis = 1)\n",
    "#print(tr_x.shape)\n",
    "#print(ts_x.shape)\n",
    "#print(tr_y.shape)\n",
    "#print(ts_y.shape)\n",
    "#print(tr_xm.shape)\n",
    "#print(tr_xsd.shape)"
   ]
  },
  {
   "cell_type": "code",
   "execution_count": 75,
   "metadata": {},
   "outputs": [],
   "source": [
    "trxm_d7 = tr_xm[:6265]\n",
    "#print(trxm_d7.shape)\n",
    "trxsd_d7 = tr_xsd[:6265]\n",
    "#print(trxsd_d7.shape)\n",
    "trxm_d8 = tr_xm[6265:]\n",
    "#print(trxm_d8.shape)\n",
    "trxsd_d8 = tr_xsd[6265:]\n",
    "#print(trxsd_d8.shape)"
   ]
  },
  {
   "cell_type": "code",
   "execution_count": 76,
   "metadata": {},
   "outputs": [],
   "source": [
    "def NaiveBayesProb(x,mean,std):\n",
    "    t=((x-mean)**2)/(2*std**2)\n",
    "    exp=(np.e)**- t\n",
    "    return ((exp/(std*(2*np.pi)**0.5)))"
   ]
  },
  {
   "cell_type": "code",
   "execution_count": 77,
   "metadata": {},
   "outputs": [],
   "source": [
    "def probofset7(v):\n",
    "    answer = 1\n",
    "    for cnt, i in enumerate(v):\n",
    "        answer *= NaiveBayesProb(i,trxm_d7[cnt],trxsd_d7[cnt])\n",
    "    return answer\n",
    "\n",
    "def probofset8(v):\n",
    "    answer = 1\n",
    "    for cnt, i in enumerate(v):\n",
    "        answer *= NaiveBayesProb(i,trxm_d8[cnt],trxsd_d8[cnt])\n",
    "    return answer\n",
    "\n",
    "def predict_data(ts_X):\n",
    "    answer = []\n",
    "    for i in ts_X:\n",
    "        prob_set_7 = probofset7(i)\n",
    "        prob_set_8 = probofset8(i)\n",
    "        if prob_set_7 > prob_set_8:\n",
    "            answer.append(0.0)\n",
    "        else:\n",
    "            answer.append(1.0)\n",
    "    return answer\n",
    "\n",
    "finalAns = predict_data(ts_x)"
   ]
  },
  {
   "cell_type": "code",
   "execution_count": 78,
   "metadata": {},
   "outputs": [
    {
     "name": "stdout",
     "output_type": "stream",
     "text": [
      "0.7032967032967034\n",
      "0.7402723735408561\n",
      "0.6642710472279261\n"
     ]
    }
   ],
   "source": [
    "n = np.sum(finalAns == ts_y)\n",
    "accr = n/ts_y.size\n",
    "print(accr)\n",
    "\n",
    "cnt7=0\n",
    "cnt8=0\n",
    "\n",
    "for i in range(1028):\n",
    "    if(finalAns[i] == ts_y[0,i]):\n",
    "        cnt7 += 1\n",
    "\n",
    "for i in range(1028,2002):\n",
    "    if(finalAns[i] == ts_y[0,i]):\n",
    "        cnt8 += 1\n",
    "\n",
    "print(cnt7/1028)\n",
    "print(cnt8/974)"
   ]
  },
  {
   "cell_type": "code",
   "execution_count": null,
   "metadata": {},
   "outputs": [],
   "source": [
    ""
   ]
  }
 ],
 "metadata": {
  "kernelspec": {
   "display_name": "Python 3",
   "language": "python",
   "name": "python3"
  },
  "language_info": {
   "codemirror_mode": {
    "name": "ipython",
    "version": 3.0
   },
   "file_extension": ".py",
   "mimetype": "text/x-python",
   "name": "python",
   "nbconvert_exporter": "python",
   "pygments_lexer": "ipython3",
   "version": "3.6.5"
  }
 },
 "nbformat": 4,
 "nbformat_minor": 0
}